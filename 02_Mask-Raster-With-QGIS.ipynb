{
 "cells": [
  {
   "cell_type": "markdown",
   "id": "b6a45d8b-d8d3-4daa-b8a0-eeb4d51973f6",
   "metadata": {},
   "source": [
    "## Addendum: Mask raster data with shape layers in QGIS"
   ]
  },
  {
   "cell_type": "markdown",
   "id": "d9a6d5bf-df43-41b5-9a04-d53a6287bf96",
   "metadata": {},
   "source": [
    "In order to mask a raster layer with a shape layer do the following:\n",
    "- Add both the raster image as well as the shape layer as layers in your project.\n",
    "- In the top menu choose `Raster` -> `Extraction` and click `Clip Raster by Mask Layer`\n",
    "- Choose your raster image as the `Input Layer`.\n",
    "- Choose your shape layer as the `Mask Layer`.\n",
    "- Check `Create an output alpha band`.\n",
    "- `Clipped (mask)` – set file path to save the result to disk.\n",
    "- Click `Run`."
   ]
  },
  {
   "cell_type": "markdown",
   "id": "5309d161-a532-495b-81fe-9fba21b5db96",
   "metadata": {},
   "source": [
    "![](_input/qgis_raster_01.jpg)\n",
    "<br><br>\n",
    "![](_input/qgis_raster_02.jpg)"
   ]
  },
  {
   "cell_type": "markdown",
   "id": "53323f6f-15c3-4ed8-a9f7-a7eb7ee95eb9",
   "metadata": {},
   "source": [
    "<sub>Patrick Arnecke, 2022<sub>"
   ]
  }
 ],
 "metadata": {
  "kernelspec": {
   "display_name": "Python 3 (ipykernel)",
   "language": "python",
   "name": "python3"
  },
  "language_info": {
   "codemirror_mode": {
    "name": "ipython",
    "version": 3
   },
   "file_extension": ".py",
   "mimetype": "text/x-python",
   "name": "python",
   "nbconvert_exporter": "python",
   "pygments_lexer": "ipython3",
   "version": "3.8.15"
  }
 },
 "nbformat": 4,
 "nbformat_minor": 5
}
